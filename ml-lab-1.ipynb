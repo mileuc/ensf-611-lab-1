{
 "cells": [
  {
   "cell_type": "markdown",
   "metadata": {},
   "source": [
    "Author: michael le"
   ]
  },
  {
   "cell_type": "code",
   "execution_count": 1,
   "metadata": {},
   "outputs": [
    {
     "name": "stdout",
     "output_type": "stream",
     "text": [
      "Python version: 3.7.6 (default, Jan  8 2020, 20:23:39) [MSC v.1916 64 bit (AMD64)]\n",
      "pandas version: 1.0.1\n",
      "matplotlib version: 3.1.3\n",
      "NumPy version: 1.18.1\n",
      "SciPy version: 1.4.1\n",
      "IPython version: 7.12.0\n",
      "scikit-learn version: 1.0.2\n",
      "yellowbrick version: 1.5\n"
     ]
    }
   ],
   "source": [
    "# paste code from README.md to display versions and run cell\n",
    "import sys\n",
    "print(\"Python version:\", sys.version)\n",
    "\n",
    "import pandas as pd\n",
    "print(\"pandas version:\", pd.__version__)\n",
    "\n",
    "import matplotlib\n",
    "print(\"matplotlib version:\", matplotlib.__version__)\n",
    "\n",
    "import numpy as np\n",
    "print(\"NumPy version:\", np.__version__)\n",
    "\n",
    "import scipy as sp\n",
    "print(\"SciPy version:\", sp.__version__)\n",
    "\n",
    "import IPython\n",
    "print(\"IPython version:\", IPython.__version__)\n",
    "\n",
    "import sklearn\n",
    "print(\"scikit-learn version:\", sklearn.__version__)\n",
    "\n",
    "import yellowbrick\n",
    "print(\"yellowbrick version:\", yellowbrick.__version__)"
   ]
  },
  {
   "cell_type": "code",
   "execution_count": 2,
   "metadata": {},
   "outputs": [
    {
     "name": "stdout",
     "output_type": "stream",
     "text": [
      "# conda environments:\n",
      "#\n",
      "base                  *  C:\\Users\\milec\\Anaconda3\n",
      "ensf-ml                  C:\\Users\\milec\\Anaconda3\\envs\\ensf-ml\n",
      "pmc_project9             C:\\Users\\milec\\Anaconda3\\envs\\pmc_project9\n",
      "virtual                  C:\\Users\\milec\\Anaconda3\\envs\\virtual\n",
      "\n"
     ]
    }
   ],
   "source": [
    "# run this cell to list conda environments\n",
    "!conda info --envs"
   ]
  }
 ],
 "metadata": {
  "kernelspec": {
   "display_name": "Python 3",
   "language": "python",
   "name": "python3"
  },
  "language_info": {
   "codemirror_mode": {
    "name": "ipython",
    "version": 3
   },
   "file_extension": ".py",
   "mimetype": "text/x-python",
   "name": "python",
   "nbconvert_exporter": "python",
   "pygments_lexer": "ipython3",
   "version": "3.7.6"
  }
 },
 "nbformat": 4,
 "nbformat_minor": 4
}
